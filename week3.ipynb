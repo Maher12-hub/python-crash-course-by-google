{
 "cells": [
  {
   "cell_type": "code",
   "execution_count": 2,
   "metadata": {},
   "outputs": [
    {
     "name": "stdout",
     "output_type": "stream",
     "text": [
      "attempts=1\n",
      "attempts=2\n",
      "attempts=3\n",
      "attempts=4\n",
      "attempts=5\n",
      "Done!\n"
     ]
    }
   ],
   "source": [
    "def attempts(n):\n",
    "    x=1\n",
    "    while x<=n:\n",
    "        print('attempts='+str(x))\n",
    "        x+=1\n",
    "    print('Done!')\n",
    "attempts(5)"
   ]
  },
  {
   "cell_type": "code",
   "execution_count": 4,
   "metadata": {},
   "outputs": [
    {
     "name": "stdout",
     "output_type": "stream",
     "text": [
      "enter your name:sunny\n",
      "enter your name:maher\n",
      "enter your name:Maher\n",
      "Maher\n"
     ]
    }
   ],
   "source": [
    "def get_username():\n",
    "    name=input('enter your name:')\n",
    "    return name\n",
    "user_name=get_username()\n",
    "def validuser_name():\n",
    "    return 'Maher'\n",
    "while user_name!=validuser_name():\n",
    "    user_name=get_username()\n",
    "print(user_name)"
   ]
  },
  {
   "cell_type": "code",
   "execution_count": 12,
   "metadata": {},
   "outputs": [
    {
     "name": "stdout",
     "output_type": "stream",
     "text": [
      "2\n",
      "2\n",
      "5\n",
      "5\n",
      "Done\n"
     ]
    }
   ],
   "source": [
    "#Fill in the blanks to make the print_prime_factors function print all the prime factors \n",
    "#of a number. A prime factor is a number that is prime and divides another without a remainder.\n",
    "\n",
    "\n",
    "def print_prime_factor(number):\n",
    "    factor=2\n",
    "    while factor <=number:\n",
    "        if number%factor==0:\n",
    "            print(factor)\n",
    "            number=number/factor\n",
    "        else:\n",
    "            factor+=1\n",
    "    print('Done')\n",
    "print_prime_factor(100)"
   ]
  },
  {
   "cell_type": "code",
   "execution_count": 15,
   "metadata": {},
   "outputs": [
    {
     "name": "stdout",
     "output_type": "stream",
     "text": [
      "False\n",
      "True\n",
      "True\n",
      "False\n"
     ]
    }
   ],
   "source": [
    "#The following code can lead to an infinite loop. Fix the code so that it can finish successfully for all numbers.\n",
    "#Note: Try running your function with the number 0 as the input, and see what you get!\n",
    "def is_power_of_two(n):\n",
    "    while n>0 and n%2==0:\n",
    "        n=n/2\n",
    "    if n==1:\n",
    "        return True\n",
    "    return False\n",
    "print(is_power_of_two(0))\n",
    "print(is_power_of_two(4))\n",
    "print(is_power_of_two(16))\n",
    "print(is_power_of_two(9))\n"
   ]
  },
  {
   "cell_type": "code",
   "execution_count": 17,
   "metadata": {},
   "outputs": [
    {
     "name": "stdout",
     "output_type": "stream",
     "text": [
      "0\n",
      "1\n",
      "55\n",
      "114\n"
     ]
    }
   ],
   "source": [
    "def sum_divisors(n):\n",
    "    sum = 0\n",
    "    x=1\n",
    "    while x<n:\n",
    "        if n%x==0:\n",
    "            sum+=x\n",
    "        x+=1\n",
    "  # Return the sum of all divisors of n, not including n\n",
    "    return sum\n",
    "\n",
    "print(sum_divisors(0))\n",
    "# 0\n",
    "print(sum_divisors(3)) # Should sum of 1\n",
    "# 1\n",
    "print(sum_divisors(36)) # Should sum of 1+2+3+4+6+9+12+18\n",
    "# 55\n",
    "print(sum_divisors(102)) # Should be sum of 2+3+6+17+34+51\n",
    "# 114\n"
   ]
  },
  {
   "cell_type": "code",
   "execution_count": 19,
   "metadata": {},
   "outputs": [
    {
     "name": "stdout",
     "output_type": "stream",
     "text": [
      "55\n",
      "0\n",
      "1\n",
      "114\n"
     ]
    }
   ],
   "source": [
    "def func(n):\n",
    "    sum=0\n",
    "    x=1\n",
    "    while x<n:\n",
    "        if n%x==0:\n",
    "            sum+=x\n",
    "        x+=1\n",
    "    return sum\n",
    "print(func(36))\n",
    "print(func(0))\n",
    "print(func(3))\n",
    "print(func(102))"
   ]
  },
  {
   "cell_type": "code",
   "execution_count": 23,
   "metadata": {},
   "outputs": [
    {
     "name": "stdout",
     "output_type": "stream",
     "text": [
      "3*1=3\n",
      "3*2=6\n",
      "3*3=9\n",
      "3*4=12\n",
      "3*5=15\n",
      "8*1=8\n",
      "8*2=16\n",
      "8*3=24\n",
      "5*1=5\n",
      "5*2=10\n",
      "5*3=15\n",
      "5*4=20\n",
      "5*5=25\n"
     ]
    }
   ],
   "source": [
    "def multiplication_number(number):\n",
    "    multiplier=1\n",
    "    while multiplier<=5:\n",
    "        result=number*multiplier\n",
    "        if result>25:\n",
    "            break\n",
    "        print(str(number)+'*'+str(multiplier)+'='+str(number*multiplier))\n",
    "        multiplier+=1\n",
    "multiplication_number(3)\n",
    "multiplication_number(8)\n",
    "multiplication_number(5)\n"
   ]
  },
  {
   "cell_type": "code",
   "execution_count": 24,
   "metadata": {},
   "outputs": [
    {
     "name": "stdout",
     "output_type": "stream",
     "text": [
      "285\n"
     ]
    }
   ],
   "source": [
    "def square(n):\n",
    "    return n*n\n",
    "def sum_square(x):\n",
    "    sum=0\n",
    "    for i in range(x):\n",
    "        sum+=square(i)\n",
    "    return sum\n",
    "print(sum_square(10))"
   ]
  },
  {
   "cell_type": "code",
   "execution_count": 26,
   "metadata": {},
   "outputs": [
    {
     "name": "stdout",
     "output_type": "stream",
     "text": [
      "0 -17.77777777777778\n",
      "10 -12.222222222222221\n",
      "20 -6.666666666666667\n",
      "30 -1.1111111111111112\n",
      "40 4.444444444444445\n",
      "50 10.0\n",
      "60 15.555555555555555\n",
      "70 21.11111111111111\n",
      "80 26.666666666666668\n",
      "90 32.22222222222222\n",
      "100 37.77777777777778\n"
     ]
    }
   ],
   "source": [
    "def to_celcius(x):\n",
    "    return (x-32)*5/9\n",
    "for i in range(0,101,10):\n",
    "    print(i,to_celcius(i))"
   ]
  },
  {
   "cell_type": "code",
   "execution_count": 28,
   "metadata": {},
   "outputs": [
    {
     "name": "stdout",
     "output_type": "stream",
     "text": [
      "[0|0][0|1][0|2][0|3][0|4][0|5][0|6]\n",
      "[1|1][1|2][1|3][1|4][1|5][1|6]\n",
      "[2|2][2|3][2|4][2|5][2|6]\n",
      "[3|3][3|4][3|5][3|6]\n",
      "[4|4][4|5][4|6]\n",
      "[5|5][5|6]\n",
      "[6|6]\n"
     ]
    }
   ],
   "source": [
    "for left in range(7):\n",
    "    for right in range(left,7):\n",
    "        print('['+str(left)+'|'+str(right)+']',end='')\n",
    "    print('')\n",
    "        "
   ]
  },
  {
   "cell_type": "code",
   "execution_count": 30,
   "metadata": {},
   "outputs": [
    {
     "name": "stdout",
     "output_type": "stream",
     "text": [
      "Bangladesh vs india\n",
      "Bangladesh vs pakistan\n",
      "Bangladesh vs srilanka\n",
      "Bangladesh vs Australia\n",
      "india vs Bangladesh\n",
      "india vs pakistan\n",
      "india vs srilanka\n",
      "india vs Australia\n",
      "pakistan vs Bangladesh\n",
      "pakistan vs india\n",
      "pakistan vs srilanka\n",
      "pakistan vs Australia\n",
      "srilanka vs Bangladesh\n",
      "srilanka vs india\n",
      "srilanka vs pakistan\n",
      "srilanka vs Australia\n",
      "Australia vs Bangladesh\n",
      "Australia vs india\n",
      "Australia vs pakistan\n",
      "Australia vs srilanka\n"
     ]
    }
   ],
   "source": [
    "teams=['Bangladesh','india','pakistan','srilanka','Australia']\n",
    "for home_team in teams:\n",
    "    for away_team in teams:\n",
    "        if home_team!=away_team:\n",
    "            print(home_team+' vs '+away_team)\n",
    "            "
   ]
  },
  {
   "cell_type": "code",
   "execution_count": 40,
   "metadata": {},
   "outputs": [
    {
     "name": "stdout",
     "output_type": "stream",
     "text": [
      "taylor is valid\n",
      "luisa is valid\n",
      "jamaal is valid\n",
      "Maher is not valid\n"
     ]
    }
   ],
   "source": [
    "def is_valid():\n",
    "    return ['taylor', 'luisa', 'jamaal']\n",
    "        \n",
    "def validate_user(users):\n",
    "    for user in users:\n",
    "        if user in is_valid():\n",
    "            print(user+' is valid')\n",
    "        else:\n",
    "            print(user+' is not valid')\n",
    "validate_user(['taylor', 'luisa', 'jamaal','Maher'])\n",
    "    "
   ]
  },
  {
   "cell_type": "code",
   "execution_count": 43,
   "metadata": {},
   "outputs": [
    {
     "name": "stdout",
     "output_type": "stream",
     "text": [
      "1\n"
     ]
    }
   ],
   "source": [
    "for i in range(1,2):\n",
    "    print(i)"
   ]
  },
  {
   "cell_type": "code",
   "execution_count": 46,
   "metadata": {},
   "outputs": [
    {
     "name": "stdout",
     "output_type": "stream",
     "text": [
      "0! 1\n",
      "1! 1\n",
      "2! 2\n",
      "3! 6\n",
      "4! 24\n",
      "5! 120\n",
      "6! 720\n",
      "7! 5040\n",
      "8! 40320\n",
      "9! 362880\n"
     ]
    }
   ],
   "source": [
    "def to_factorial(n):\n",
    "    result=1\n",
    "    for x in range(1,n):\n",
    "        result*=x\n",
    "    return result\n",
    "for n in range(0,10):\n",
    "    print(str(n)+\"!\",to_factorial(n+1))"
   ]
  },
  {
   "cell_type": "code",
   "execution_count": 49,
   "metadata": {},
   "outputs": [
    {
     "name": "stdout",
     "output_type": "stream",
     "text": [
      "1**3= 1\n",
      "2**3= 8\n",
      "3**3= 27\n",
      "4**3= 64\n",
      "5**3= 125\n",
      "6**3= 216\n",
      "7**3= 343\n",
      "8**3= 512\n",
      "9**3= 729\n",
      "10**3= 1000\n"
     ]
    }
   ],
   "source": [
    "for x in range(1,11):\n",
    "    print(str(x)+'**3'+'= '+str(x**3))"
   ]
  },
  {
   "cell_type": "code",
   "execution_count": 50,
   "metadata": {},
   "outputs": [
    {
     "data": {
      "text/plain": [
       "0"
      ]
     },
     "execution_count": 50,
     "metadata": {},
     "output_type": "execute_result"
    }
   ],
   "source": [
    "0%7"
   ]
  },
  {
   "cell_type": "code",
   "execution_count": 51,
   "metadata": {},
   "outputs": [
    {
     "name": "stdout",
     "output_type": "stream",
     "text": [
      "enter the hour:45\n",
      "enter the rate:10.50\n",
      "498.75\n"
     ]
    }
   ],
   "source": [
    "hours=float(input('enter the hour:'))\n",
    "rate=float(input('enter the rate:'))\n",
    "def compute_pay(hour,rate):\n",
    "    if hour>40:\n",
    "        pay=40*rate\n",
    "        h=hour-40\n",
    "        after_40_hour_pay=h*rate*1.5\n",
    "        total_pay=pay+after_40_hour_pay\n",
    "    return total_pay\n",
    "\n",
    "print(compute_pay(hours,rate))"
   ]
  },
  {
   "cell_type": "code",
   "execution_count": 53,
   "metadata": {},
   "outputs": [
    {
     "name": "stdout",
     "output_type": "stream",
     "text": [
      "120\n"
     ]
    }
   ],
   "source": [
    "def factorial(n):\n",
    "    if n<2:\n",
    "        return 1\n",
    "    return n*factorial(n-1)\n",
    "print(factorial(5))"
   ]
  },
  {
   "cell_type": "code",
   "execution_count": 54,
   "metadata": {},
   "outputs": [
    {
     "data": {
      "text/plain": [
       "15"
      ]
     },
     "execution_count": 54,
     "metadata": {},
     "output_type": "execute_result"
    }
   ],
   "source": [
    "def sum_positive_number(n):\n",
    "    if n<1:\n",
    "        return 0\n",
    "    return n+sum_positive_number(n-1)\n",
    "sum_positive_number(5)"
   ]
  },
  {
   "cell_type": "code",
   "execution_count": 57,
   "metadata": {},
   "outputs": [
    {
     "name": "stdout",
     "output_type": "stream",
     "text": [
      "True\n",
      "False\n"
     ]
    }
   ],
   "source": [
    "def is_power(number,base):\n",
    "    if number<base:\n",
    "        if number==1:\n",
    "            return True\n",
    "        else:\n",
    "            return False\n",
    "    return is_power(number/base,base)\n",
    "print(is_power(8,2))\n",
    "print(is_power(70,10))"
   ]
  },
  {
   "cell_type": "code",
   "execution_count": 59,
   "metadata": {},
   "outputs": [
    {
     "name": "stdout",
     "output_type": "stream",
     "text": [
      "1 2 3 \n",
      "2 4 6 \n",
      "3 6 9 \n"
     ]
    }
   ],
   "source": [
    "def multiplication_table(start,end):\n",
    "    for x in range(start,end+1):\n",
    "        for y in range(start,end+1):\n",
    "            print(str(x*y),end=' ')\n",
    "        print('')\n",
    "multiplication_table(1,3)"
   ]
  },
  {
   "cell_type": "code",
   "execution_count": 73,
   "metadata": {},
   "outputs": [
    {
     "name": "stdout",
     "output_type": "stream",
     "text": [
      "counting down:10,9,8,7,6,5,4,3,2,1\n",
      "counting_up:1,2,3,4,5,6,7,8,9,10\n"
     ]
    }
   ],
   "source": [
    "def counter(start,stop):\n",
    "    x=start\n",
    "    if x>stop:\n",
    "        return_string='counting down:'\n",
    "        while x>=stop:\n",
    "            return_string+=str(x)\n",
    "            if x>stop:\n",
    "                return_string+=','\n",
    "            x-=1\n",
    "    elif x<stop:\n",
    "        return_string='counting_up:'\n",
    "        while x<=stop:\n",
    "            return_string+=str(x)\n",
    "            if x<stop:\n",
    "                return_string+=','\n",
    "            x+=1\n",
    "    return return_string\n",
    "\n",
    "print(counter(10,1))\n",
    "print(counter(1,10))\n",
    "    "
   ]
  },
  {
   "cell_type": "code",
   "execution_count": 74,
   "metadata": {},
   "outputs": [
    {
     "name": "stdout",
     "output_type": "stream",
     "text": [
      "1\n",
      "4\n",
      "7\n"
     ]
    }
   ],
   "source": [
    "for x in range(1, 10, 3):\n",
    "    print(x)"
   ]
  },
  {
   "cell_type": "code",
   "execution_count": 75,
   "metadata": {},
   "outputs": [
    {
     "name": "stdout",
     "output_type": "stream",
     "text": [
      "0\n",
      "0\n",
      "1\n",
      "0\n",
      "1\n",
      "2\n",
      "0\n",
      "1\n",
      "2\n",
      "3\n",
      "0\n",
      "1\n",
      "2\n",
      "3\n",
      "4\n",
      "0\n",
      "1\n",
      "2\n",
      "3\n",
      "4\n",
      "5\n",
      "0\n",
      "1\n",
      "2\n",
      "3\n",
      "4\n",
      "5\n",
      "6\n",
      "0\n",
      "1\n",
      "2\n",
      "3\n",
      "4\n",
      "5\n",
      "6\n",
      "7\n",
      "0\n",
      "1\n",
      "2\n",
      "3\n",
      "4\n",
      "5\n",
      "6\n",
      "7\n",
      "8\n"
     ]
    }
   ],
   "source": [
    "for x in range(10):\n",
    "    for y in range(x):\n",
    "        print(y)"
   ]
  },
  {
   "cell_type": "code",
   "execution_count": null,
   "metadata": {},
   "outputs": [],
   "source": []
  }
 ],
 "metadata": {
  "kernelspec": {
   "display_name": "Python 3",
   "language": "python",
   "name": "python3"
  },
  "language_info": {
   "codemirror_mode": {
    "name": "ipython",
    "version": 3
   },
   "file_extension": ".py",
   "mimetype": "text/x-python",
   "name": "python",
   "nbconvert_exporter": "python",
   "pygments_lexer": "ipython3",
   "version": "3.7.6"
  }
 },
 "nbformat": 4,
 "nbformat_minor": 4
}
