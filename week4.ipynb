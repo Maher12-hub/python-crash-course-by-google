{
 "cells": [
  {
   "cell_type": "code",
   "execution_count": 6,
   "metadata": {},
   "outputs": [
    {
     "data": {
      "text/plain": [
       "'maher@yahoo.com'"
      ]
     },
     "execution_count": 6,
     "metadata": {},
     "output_type": "execute_result"
    }
   ],
   "source": [
    "def replace_domain(email,old_domain,new_domain):\n",
    "    if '@'+old_domain in email:\n",
    "        index=email.index('@'+old_domain)\n",
    "        new_email=email[:index]+'@'+new_domain\n",
    "        return new_email\n",
    "    return email\n",
    "replace_domain('maher@gmail.com','gmail.com','yahoo.com')"
   ]
  },
  {
   "cell_type": "code",
   "execution_count": 3,
   "metadata": {},
   "outputs": [
    {
     "data": {
      "text/plain": [
       "'@gmail.com'"
      ]
     },
     "execution_count": 3,
     "metadata": {},
     "output_type": "execute_result"
    }
   ],
   "source": [
    "'@'+'gmail.com'"
   ]
  },
  {
   "cell_type": "code",
   "execution_count": 8,
   "metadata": {},
   "outputs": [
    {
     "name": "stdout",
     "output_type": "stream",
     "text": [
      "USB\n",
      "LAN\n",
      "OS\n"
     ]
    }
   ],
   "source": [
    "def initials(pharse):\n",
    "    words=pharse.split()\n",
    "    result=''\n",
    "    for word in words:\n",
    "        result+=word[0]\n",
    "    return result.upper()\n",
    "print(initials(\"Universal Serial Bus\")) # Should be: USB\n",
    "print(initials(\"local area network\")) # Should be: LAN\n",
    "print(initials(\"Operating system\")) # Should be: OS"
   ]
  },
  {
   "cell_type": "code",
   "execution_count": 10,
   "metadata": {},
   "outputs": [
    {
     "name": "stdout",
     "output_type": "stream",
     "text": [
      "maher, your lucky number is 15.\n"
     ]
    }
   ],
   "source": [
    "name='maher'\n",
    "number=len(name)*3\n",
    "print('{}, your lucky number is {}.'.format(name,number))"
   ]
  },
  {
   "cell_type": "code",
   "execution_count": 13,
   "metadata": {},
   "outputs": [
    {
     "name": "stdout",
     "output_type": "stream",
     "text": [
      "base price: $7.50. with tax: $11.25\n"
     ]
    }
   ],
   "source": [
    "price=7.5\n",
    "with_tax=7.5*1.5\n",
    "print('base price: ${:.2f}. with tax: ${:.2f}'.format(price,with_tax))"
   ]
  },
  {
   "cell_type": "code",
   "execution_count": 16,
   "metadata": {},
   "outputs": [
    {
     "name": "stdout",
     "output_type": "stream",
     "text": [
      "  0 F | -17.78 C\n",
      " 10 F | -12.22 C\n",
      " 20 F |  -6.67 C\n",
      " 30 F |  -1.11 C\n",
      " 40 F |   4.44 C\n",
      " 50 F |  10.00 C\n",
      " 60 F |  15.56 C\n",
      " 70 F |  21.11 C\n",
      " 80 F |  26.67 C\n",
      " 90 F |  32.22 C\n",
      "100 F |  37.78 C\n"
     ]
    }
   ],
   "source": [
    "def to_celcius(x):\n",
    "    return (x-32)*5/9\n",
    "for x in range(0,101,10):\n",
    "    print('{:>3} F | {:>6.2f} C'.format(x,to_celcius(x)))\n"
   ]
  },
  {
   "cell_type": "code",
   "execution_count": 18,
   "metadata": {},
   "outputs": [
    {
     "name": "stdout",
     "output_type": "stream",
     "text": [
      "k\n",
      "a\n",
      "y\n",
      "a\n",
      "k\n"
     ]
    }
   ],
   "source": [
    "input_string='kayak'\n",
    "for i in input_string:\n",
    "    print(i)"
   ]
  },
  {
   "cell_type": "code",
   "execution_count": 23,
   "metadata": {},
   "outputs": [
    {
     "name": "stdout",
     "output_type": "stream",
     "text": [
      "1\n"
     ]
    }
   ],
   "source": [
    "input_string=' '\n",
    "for i in input_string:\n",
    "    if i==' ':\n",
    "        print(1)"
   ]
  },
  {
   "cell_type": "code",
   "execution_count": 29,
   "metadata": {},
   "outputs": [
    {
     "data": {
      "text/plain": [
       "17"
      ]
     },
     "execution_count": 29,
     "metadata": {},
     "output_type": "execute_result"
    }
   ],
   "source": [
    "len(\"Never Odd or Even\")"
   ]
  },
  {
   "cell_type": "code",
   "execution_count": 34,
   "metadata": {},
   "outputs": [
    {
     "name": "stdout",
     "output_type": "stream",
     "text": [
      "14\n"
     ]
    }
   ],
   "source": [
    "input_string=\"Never Odd or Even\"\n",
    "input_string=input_string.replace(' ','')\n",
    "print(len(input_string))"
   ]
  },
  {
   "cell_type": "code",
   "execution_count": 45,
   "metadata": {},
   "outputs": [
    {
     "name": "stdout",
     "output_type": "stream",
     "text": [
      "It's raining cats and dogs\n",
      "She sells seashells by the seashore\n",
      "The weather is nice in May\n",
      "The weather is nice in April\n"
     ]
    }
   ],
   "source": [
    "def replace_ending(sentence, old, new):\n",
    "    if old in sentence:\n",
    "        # of the sentence up to the matched string at the \n",
    "        # end with the new string\n",
    "        i =len(old)\n",
    "        if sentence[len(sentence)-i:]!=old:\n",
    "            return sentence\n",
    "        else:\n",
    "            new_sentence = sentence[:len(sentence)-i]+new\n",
    "            return new_sentence\n",
    "\n",
    "    # Return the original sentence if there is no match \n",
    "    return sentence\n",
    "\n",
    "print(replace_ending(\"It's raining cats and cats\", \"cats\", \"dogs\")) \n",
    "# Should display \"It's raining cats and dogs\"\n",
    "print(replace_ending(\"She sells seashells by the seashore\", \"seashells\", \"donuts\")) \n",
    "# Should display \"She sells seashells by the seashore\"\n",
    "print(replace_ending(\"The weather is nice in May\", \"may\", \"april\")) \n",
    "# Should display \"The weather is nice in May\"\n",
    "print(replace_ending(\"The weather is nice in May\", \"May\", \"April\")) \n",
    "# Should display \"The weather is nice in April\"\n"
   ]
  },
  {
   "cell_type": "code",
   "execution_count": 46,
   "metadata": {},
   "outputs": [
    {
     "name": "stdout",
     "output_type": "stream",
     "text": [
      "True\n",
      "False\n",
      "True\n"
     ]
    }
   ],
   "source": [
    "#The is_palindrome function checks if a string is a palindrome. A palindrome is a string that \n",
    "#can be equally read from left to right or right to left, omitting blank spaces, and ignoring #\n",
    "#capitalization. Examples of palindromes are words like kayak and radar, and phrases like \n",
    "#\"Never Odd or Even\". Fill in the blanks in this function to return True if the passed string \n",
    "#is a palindrome, False if not.\n",
    "\n",
    "\n",
    "def is_palindrome(input_string):\n",
    "    new_string=''\n",
    "    reverse_string=''\n",
    "    j=-1\n",
    "    input_string=input_string.replace(' ','')\n",
    "    for i in range(len(input_string)):\n",
    "        if input_string[i]!=' ' and input_string[j]!=' ':\n",
    "            new_string+=input_string[i]\n",
    "            reverse_string+=input_string[j]\n",
    "            j-=1\n",
    "    if new_string.lower()==reverse_string.lower():\n",
    "        return True\n",
    "    return False\n",
    "print(is_palindrome(\"Never Odd or Even\")) # Should be True\n",
    "print(is_palindrome(\"abc\")) # Should be False\n",
    "print(is_palindrome(\"kayak\")) # Should be True\n",
    "        "
   ]
  },
  {
   "cell_type": "code",
   "execution_count": 48,
   "metadata": {},
   "outputs": [
    {
     "name": "stdout",
     "output_type": "stream",
     "text": [
      "12 miles equals 19.2 km\n"
     ]
    }
   ],
   "source": [
    "def convert_distance(miles):\n",
    "    km=miles*1.6\n",
    "    print('{} miles equals {:.1f} km'.format(miles,km))\n",
    "convert_distance(12)"
   ]
  },
  {
   "cell_type": "code",
   "execution_count": 49,
   "metadata": {},
   "outputs": [
    {
     "name": "stdout",
     "output_type": "stream",
     "text": [
      "It's raining cats and dogs\n",
      "She sells seashells by the seashore\n",
      "The weather is nice in May\n",
      "The weather is nice in April\n"
     ]
    }
   ],
   "source": [
    "def replace_ending(sentence,old,new):\n",
    "    if old in sentence:\n",
    "        i=len(old)\n",
    "        if sentence[len(sentence)-i:]!=old:\n",
    "            return sentence\n",
    "        else:\n",
    "            new_sentence=sentence[:len(sentence)-i]+new\n",
    "            return new_sentence\n",
    "    return sentence\n"
   ]
  },
  {
   "cell_type": "code",
   "execution_count": 1,
   "metadata": {},
   "outputs": [
    {
     "name": "stdout",
     "output_type": "stream",
     "text": [
      "2\n",
      "5\n",
      "1 2 3 5\n",
      "4\n",
      "10\n",
      "1 2 3 4 5 6 7 8 10\n",
      "9\n"
     ]
    }
   ],
   "source": [
    "\"\"\"\n",
    "Problem Statement:\n",
    "Missing number in array\n",
    "Given an array C of size N-1 and given that there are numbers from 1 to N with one element missing, the missing number is to be found.\n",
    "Input:\n",
    "The first line of input contains an integer T denoting the number of test cases. For each test case first line contains N(size of array). The subsequent line contains N-1 array elements.\n",
    "Output:\n",
    "Print the missing number in array.\n",
    "Constraints:\n",
    "1 ≤ T ≤ 200\n",
    "1 ≤ N ≤ 107\n",
    "1 ≤ C[i] ≤ 107\n",
    "Example:\n",
    "Input:\n",
    "2\n",
    "5\n",
    "1 2 3 5\n",
    "10\n",
    "1 2 3 4 5 6 7 8 10\n",
    "Output:\n",
    "4\n",
    "9\n",
    "\"\"\"\n",
    "\n",
    "\n",
    "\n",
    "test_cases=int(input())\n",
    "for i in range(test_cases):\n",
    "    number_of_elements=int(input())\n",
    "    elements=list(map(int,input().split(' ')))\n",
    "    predicted_elements=set()\n",
    "    for j in range(1,number_of_elements+1):\n",
    "        predicted_elements.add(j)\n",
    "    diff_set=predicted_elements-set(elements)\n",
    "    for missing_element in diff_set:\n",
    "        print(missing_element)"
   ]
  },
  {
   "cell_type": "code",
   "execution_count": 3,
   "metadata": {},
   "outputs": [
    {
     "name": "stdout",
     "output_type": "stream",
     "text": [
      "6\n"
     ]
    }
   ],
   "source": [
    "sentence=\"This is a lesson about lists\"\n",
    "print(len(sentence.split()))"
   ]
  },
  {
   "cell_type": "code",
   "execution_count": 4,
   "metadata": {},
   "outputs": [
    {
     "name": "stdout",
     "output_type": "stream",
     "text": [
      "total_length:9 Average:3.0\n"
     ]
    }
   ],
   "source": [
    "animals=['cat','dog','cow']\n",
    "chars=0\n",
    "for animal in animals:\n",
    "    chars+=len(animal)\n",
    "print('total_length:{} Average:{}'.format(chars,chars/len(animals)))"
   ]
  },
  {
   "cell_type": "code",
   "execution_count": 6,
   "metadata": {},
   "outputs": [
    {
     "name": "stdout",
     "output_type": "stream",
     "text": [
      "1.maher\n",
      "2.rahi\n",
      "3.sunny\n"
     ]
    }
   ],
   "source": [
    "winners=['maher','rahi','sunny']\n",
    "for index,name in enumerate(winners):\n",
    "    print('{}.{}'.format(index+1,name))"
   ]
  },
  {
   "cell_type": "code",
   "execution_count": 9,
   "metadata": {},
   "outputs": [
    {
     "name": "stdout",
     "output_type": "stream",
     "text": [
      "['a', 'c', 'e', 'g']\n",
      "['Orange', 'Strawberry', 'Peach']\n"
     ]
    }
   ],
   "source": [
    "def skip_elements(elements):\n",
    "    new_lits=[]\n",
    "    for index,element in enumerate(elements):\n",
    "        if index%2==0:\n",
    "            new_lits.append(element)\n",
    "    return new_lits\n",
    "\n",
    "\n",
    "\n",
    "print(skip_elements([\"a\", \"b\", \"c\", \"d\", \"e\", \"f\", \"g\"])) # Should be ['a', 'c', 'e', 'g']\n",
    "print(skip_elements(['Orange', 'Pineapple', 'Strawberry', 'Kiwi', 'Peach'])) # Should be ['Orange', 'Strawberry', 'Peach']"
   ]
  },
  {
   "cell_type": "code",
   "execution_count": 12,
   "metadata": {},
   "outputs": [
    {
     "name": "stdout",
     "output_type": "stream",
     "text": [
      "['emails: maher@gmail.com and name: maher ibne rahman ', 'emails: anha@yahoo.com and name: anha shahid ']\n"
     ]
    }
   ],
   "source": [
    "def full_emails(people):\n",
    "    emails=[]\n",
    "    for email,name in people:\n",
    "        emails.append('emails: {} and name: {} '.format(email,name))\n",
    "    return emails\n",
    "print(full_emails([('maher@gmail.com','maher ibne rahman'),('anha@yahoo.com','anha shahid')]))"
   ]
  },
  {
   "cell_type": "code",
   "execution_count": 14,
   "metadata": {},
   "outputs": [
    {
     "data": {
      "text/plain": [
       "[1, 2, 3, 4, 5, 6, 7, 8, 9, 10]"
      ]
     },
     "execution_count": 14,
     "metadata": {},
     "output_type": "execute_result"
    }
   ],
   "source": [
    "multiples=[x for x in range(1,11)]\n",
    "multiples"
   ]
  },
  {
   "cell_type": "code",
   "execution_count": 15,
   "metadata": {},
   "outputs": [
    {
     "data": {
      "text/plain": [
       "[6, 4, 2, 4]"
      ]
     },
     "execution_count": 15,
     "metadata": {},
     "output_type": "execute_result"
    }
   ],
   "source": [
    "languages=['python','ruby','go','java']\n",
    "length=[len(language) for language in languages]\n",
    "length"
   ]
  },
  {
   "cell_type": "code",
   "execution_count": 19,
   "metadata": {},
   "outputs": [
    {
     "data": {
      "text/plain": [
       "[3,\n",
       " 6,\n",
       " 9,\n",
       " 12,\n",
       " 15,\n",
       " 18,\n",
       " 21,\n",
       " 24,\n",
       " 27,\n",
       " 30,\n",
       " 33,\n",
       " 36,\n",
       " 39,\n",
       " 42,\n",
       " 45,\n",
       " 48,\n",
       " 51,\n",
       " 54,\n",
       " 57,\n",
       " 60,\n",
       " 63,\n",
       " 66,\n",
       " 69,\n",
       " 72,\n",
       " 75,\n",
       " 78,\n",
       " 81,\n",
       " 84,\n",
       " 87,\n",
       " 90,\n",
       " 93,\n",
       " 96,\n",
       " 99]"
      ]
     },
     "execution_count": 19,
     "metadata": {},
     "output_type": "execute_result"
    }
   ],
   "source": [
    "li=[i for i in range(1,101) if i%3==0 ]\n",
    "li"
   ]
  },
  {
   "cell_type": "code",
   "execution_count": 20,
   "metadata": {},
   "outputs": [
    {
     "data": {
      "text/plain": [
       "'my name is maher'"
      ]
     },
     "execution_count": 20,
     "metadata": {},
     "output_type": "execute_result"
    }
   ],
   "source": [
    "li=['my','name','is','maher']\n",
    "' '.join(li)"
   ]
  },
  {
   "cell_type": "code",
   "execution_count": 27,
   "metadata": {},
   "outputs": [
    {
     "data": {
      "text/plain": [
       "'ahermay'"
      ]
     },
     "execution_count": 27,
     "metadata": {},
     "output_type": "execute_result"
    }
   ],
   "source": [
    "word='maher'\n",
    "a=word[1:]+word[0]+'ay'\n",
    "a"
   ]
  },
  {
   "cell_type": "code",
   "execution_count": 28,
   "metadata": {},
   "outputs": [
    {
     "data": {
      "text/plain": [
       "[7, 5, 5]"
      ]
     },
     "execution_count": 28,
     "metadata": {},
     "output_type": "execute_result"
    }
   ],
   "source": [
    "octal='755'\n",
    "li=[int(n) for n in str(octal)]\n",
    "li"
   ]
  },
  {
   "cell_type": "code",
   "execution_count": 29,
   "metadata": {},
   "outputs": [
    {
     "name": "stdout",
     "output_type": "stream",
     "text": [
      "rwxr-xr-x\n",
      "rw-r--r--\n",
      "rwxr-x---\n",
      "rw-------\n"
     ]
    }
   ],
   "source": [
    "\"\"\"\n",
    "The permissions of a file in a Linux system are split into three sets of three permissions: \n",
    "read, write, and execute for the owner, group, and others. Each of the three values can be \n",
    "expressed as an octal number summing each permission, with 4 corresponding to read, 2 to write,\n",
    "and 1 to execute. Or it can be written with a string using the letters r, w, and x or - when \n",
    "the permission is not granted. For example: 640 is read/write for the owner, read for the \n",
    "group, and no permissions for the others; converted to a string, it would be: \"rw-r-----\" 755 \n",
    "is read/write/execute for the owner, and read/execute for group and others; converted to a \n",
    "string, it would be: \"rwxr-xr-x\" Fill in the blanks to make the code convert a permission in \n",
    "octal format into a string format. \n",
    "\"\"\"\n",
    "\n",
    "\n",
    "def octal_to_string(octal):\n",
    "    result=''\n",
    "    value_letters=[(4,'r'),(2,'w'),(1,'x')]\n",
    "    for number in [int(n) for n in str(octal)]:\n",
    "        for value,letter in value_letters:\n",
    "            if number>=value:\n",
    "                result+=letter\n",
    "                number-=value\n",
    "            else:\n",
    "                result+='-'\n",
    "    return result\n",
    "\n",
    "\n",
    "print(octal_to_string(755)) # Should be rwxr-xr-x\n",
    "print(octal_to_string(644)) # Should be rw-r--r--\n",
    "print(octal_to_string(750)) # Should be rwxr-x---\n",
    "print(octal_to_string(600)) # Should be rw-------"
   ]
  },
  {
   "cell_type": "code",
   "execution_count": 30,
   "metadata": {},
   "outputs": [
    {
     "data": {
      "text/plain": [
       "'Mike,Karen,Jake,Tasha'"
      ]
     },
     "execution_count": 30,
     "metadata": {},
     "output_type": "execute_result"
    }
   ],
   "source": [
    "user=[\"Mike\", \"Karen\", \"Jake\", \"Tasha\"]\n",
    "','.join(user)"
   ]
  },
  {
   "cell_type": "code",
   "execution_count": 31,
   "metadata": {},
   "outputs": [
    {
     "name": "stdout",
     "output_type": "stream",
     "text": [
      "['program.c', 'stdio.h', 'sample.h', 'a.out', 'math.h', 'hpp.out']\n"
     ]
    }
   ],
   "source": [
    "filenames = [\"program.c\", \"stdio.hpp\", \"sample.hpp\", \"a.out\", \"math.hpp\", \"hpp.out\"]\n",
    "new_file_names=[]\n",
    "for filename in filenames:\n",
    "    if '.hpp' in filename:\n",
    "        a=filename[:-2]\n",
    "        new_file_names.append(a)\n",
    "    else:\n",
    "        new_file_names.append(filename)\n",
    "print(new_file_names)\n",
    "        "
   ]
  },
  {
   "cell_type": "code",
   "execution_count": 32,
   "metadata": {},
   "outputs": [
    {
     "name": "stdout",
     "output_type": "stream",
     "text": [
      "ellohay owhay reaay ouyay\n",
      "rogrammingpay niay ythonpay siay unfay\n"
     ]
    }
   ],
   "source": [
    "def pig_latin(sentence):\n",
    "    say=''\n",
    "    li=[]\n",
    "    words=sentence.split()\n",
    "    for word in words:\n",
    "        say=word[1:]+word[0]+'ay'\n",
    "        li.append(say)\n",
    "    return ' '.join(li)\n",
    "\n",
    "print(pig_latin(\"hello how are you\")) # Should be \"ellohay owhay reaay ouyay\"\n",
    "print(pig_latin(\"programming in python is fun\")) # Should be \"rogrammingpay niay ythonpay siay unfay\""
   ]
  },
  {
   "cell_type": "code",
   "execution_count": 33,
   "metadata": {},
   "outputs": [
    {
     "name": "stdout",
     "output_type": "stream",
     "text": [
      "Marketing:Mike,Karen,Jake,Tasha\n",
      "Engineering:Kim,Jay,Tom\n",
      "Users:\n"
     ]
    }
   ],
   "source": [
    "def group_list(group,users):\n",
    "    li=[]\n",
    "    for user in users:\n",
    "        li.append(user)\n",
    "    member='{}:{}'.format(group,','.join(li))\n",
    "    return member\n",
    "    \n",
    "    \n",
    "    \n",
    "print(group_list(\"Marketing\", [\"Mike\", \"Karen\", \"Jake\", \"Tasha\"])) # Should be \"Marketing: Mike, Karen, Jake, Tasha\"\n",
    "print(group_list(\"Engineering\", [\"Kim\", \"Jay\", \"Tom\"])) # Should be \"Engineering: Kim, Jay, Tom\"\n",
    "print(group_list(\"Users\", \"\")) # Should be \"Users:\""
   ]
  },
  {
   "cell_type": "code",
   "execution_count": 35,
   "metadata": {},
   "outputs": [
    {
     "data": {
      "text/plain": [
       "{'jpg': 18, 'txt': 4, 'csv': 30, 'py': 2, 'cfg': 21}"
      ]
     },
     "execution_count": 35,
     "metadata": {},
     "output_type": "execute_result"
    }
   ],
   "source": [
    "file_counts={'jpg':18,'txt':4,'csv':21,'py':2}\n",
    "file_counts['cfg']=21\n",
    "file_counts['csv']=30\n",
    "file_counts"
   ]
  },
  {
   "cell_type": "code",
   "execution_count": 36,
   "metadata": {},
   "outputs": [
    {
     "data": {
      "text/plain": [
       "False"
      ]
     },
     "execution_count": 36,
     "metadata": {},
     "output_type": "execute_result"
    }
   ],
   "source": [
    "toc = {\"Introduction\":1, \"Chapter 1\":4, \"Chapter 2\":11, \"Chapter 3\":25, \"Chapter 4\":30}\n",
    "'chapter 5' in toc"
   ]
  },
  {
   "cell_type": "code",
   "execution_count": 39,
   "metadata": {},
   "outputs": [
    {
     "name": "stdout",
     "output_type": "stream",
     "text": [
      "there are 18 files with .jpg extention\n",
      "there are 4 files with .txt extention\n",
      "there are 30 files with .csv extention\n",
      "there are 2 files with .py extention\n",
      "there are 21 files with .cfg extention\n"
     ]
    }
   ],
   "source": [
    "file_counts\n",
    "for ext,item in file_counts.items():\n",
    "    print('there are {} files with .{} extention'.format(item,ext))"
   ]
  },
  {
   "cell_type": "code",
   "execution_count": 41,
   "metadata": {},
   "outputs": [
    {
     "data": {
      "text/plain": [
       "dict_values([18, 4, 30, 2, 21])"
      ]
     },
     "execution_count": 41,
     "metadata": {},
     "output_type": "execute_result"
    }
   ],
   "source": [
    "file_counts.keys()\n",
    "file_counts.values()"
   ]
  },
  {
   "cell_type": "code",
   "execution_count": 42,
   "metadata": {},
   "outputs": [
    {
     "name": "stdout",
     "output_type": "stream",
     "text": [
      "jpg\n",
      "txt\n",
      "csv\n",
      "py\n",
      "cfg\n"
     ]
    }
   ],
   "source": [
    "for key in file_counts.keys():\n",
    "    print(key)"
   ]
  },
  {
   "cell_type": "code",
   "execution_count": 43,
   "metadata": {},
   "outputs": [
    {
     "name": "stdout",
     "output_type": "stream",
     "text": [
      "18\n",
      "4\n",
      "30\n",
      "2\n",
      "21\n"
     ]
    }
   ],
   "source": [
    "for value in file_counts.values():\n",
    "    print(value)"
   ]
  },
  {
   "cell_type": "code",
   "execution_count": 44,
   "metadata": {},
   "outputs": [
    {
     "data": {
      "text/plain": [
       "{'a': 5, 'b': 5, 'c': 1}"
      ]
     },
     "execution_count": 44,
     "metadata": {},
     "output_type": "execute_result"
    }
   ],
   "source": [
    "def count_letter(text):\n",
    "    result={}\n",
    "    for letter in text:\n",
    "        if letter not in result:\n",
    "            result[letter]=0\n",
    "        result[letter]+=1\n",
    "    return result\n",
    "count_letter('aaabbbaabbc')"
   ]
  },
  {
   "cell_type": "code",
   "execution_count": 48,
   "metadata": {},
   "outputs": [
    {
     "name": "stdout",
     "output_type": "stream",
     "text": [
      "red shirt\n",
      "blue shirt\n",
      "white shirt\n",
      "blue jeans\n",
      "black jeans\n"
     ]
    }
   ],
   "source": [
    "wardrobe = {\"shirt\":[\"red\",\"blue\",\"white\"], \"jeans\":[\"blue\",\"black\"]}\n",
    "for cloth,colors in wardrobe.items():\n",
    "    for color in colors:\n",
    "        print('{} {}'.format(color,cloth))"
   ]
  },
  {
   "cell_type": "code",
   "execution_count": 61,
   "metadata": {},
   "outputs": [
    {
     "data": {
      "text/plain": [
       "{'maher': 'raj', 'rahi': 'kustia'}"
      ]
     },
     "execution_count": 61,
     "metadata": {},
     "output_type": "execute_result"
    }
   ],
   "source": [
    "user={}\n",
    "user['maher']=['chi']\n",
    "new_items={'maher':'raj','rahi':'kustia'}\n",
    "user.update(new_items)\n",
    "user"
   ]
  },
  {
   "cell_type": "code",
   "execution_count": 62,
   "metadata": {},
   "outputs": [
    {
     "data": {
      "text/plain": [
       "4"
      ]
     },
     "execution_count": 62,
     "metadata": {},
     "output_type": "execute_result"
    }
   ],
   "source": [
    "len([1,2,3,4])"
   ]
  },
  {
   "cell_type": "code",
   "execution_count": 63,
   "metadata": {},
   "outputs": [
    {
     "data": {
      "text/plain": [
       "'Have a NICE day'"
      ]
     },
     "execution_count": 63,
     "metadata": {},
     "output_type": "execute_result"
    }
   ],
   "source": [
    "sentence=\"Have a nice day\"\n",
    "sentence.replace('nice','NICE')"
   ]
  },
  {
   "cell_type": "code",
   "execution_count": 77,
   "metadata": {},
   "outputs": [
    {
     "data": {
      "text/plain": [
       "['Alice', 'Cindy', 'Bobby', 'Jan', 'Peter']"
      ]
     },
     "execution_count": 77,
     "metadata": {},
     "output_type": "execute_result"
    }
   ],
   "source": [
    "Jamies_list = [\"Alice\", \"Cindy\", \"Bobby\", \"Jan\", \"Peter\"]\n",
    "new_list=Jamies_list\n",
    "new_list"
   ]
  },
  {
   "cell_type": "code",
   "execution_count": 83,
   "metadata": {},
   "outputs": [
    {
     "data": {
      "text/plain": [
       "['Peter', 'Jan', 'Bobby', 'Cindy', 'Alice']"
      ]
     },
     "execution_count": 83,
     "metadata": {},
     "output_type": "execute_result"
    }
   ],
   "source": [
    "a=len(Jamies_list)\n",
    "new_list=[]\n",
    "\n",
    "for i in range(1,a+1):\n",
    "    new_list.append(Jamies_list[-i])\n",
    "new_list\n",
    "    "
   ]
  },
  {
   "cell_type": "code",
   "execution_count": 84,
   "metadata": {},
   "outputs": [
    {
     "data": {
      "text/plain": [
       "'aabbcc'"
      ]
     },
     "execution_count": 84,
     "metadata": {},
     "output_type": "execute_result"
    }
   ],
   "source": [
    "text=\"AaBbCc\"\n",
    "text.lower()"
   ]
  },
  {
   "cell_type": "code",
   "execution_count": 87,
   "metadata": {},
   "outputs": [
    {
     "data": {
      "text/plain": [
       "'Mathisfun!2+2=4'"
      ]
     },
     "execution_count": 87,
     "metadata": {},
     "output_type": "execute_result"
    }
   ],
   "source": [
    "sentence=\"Math is fun! 2+2=4\"\n",
    "sentence.replace(' ','')"
   ]
  },
  {
   "cell_type": "code",
   "execution_count": 89,
   "metadata": {},
   "outputs": [
    {
     "name": "stdout",
     "output_type": "stream",
     "text": [
      "1\n",
      "!\n"
     ]
    }
   ],
   "source": [
    "text='1!'\n",
    "for letter in text: \n",
    "    if letter in [str(i) for i in range(0,10)] or letter in ['!']:\n",
    "        print(letter)"
   ]
  },
  {
   "cell_type": "code",
   "execution_count": 91,
   "metadata": {},
   "outputs": [
    {
     "data": {
      "text/plain": [
       "['red', 'white', 'yellow', 'blue']"
      ]
     },
     "execution_count": 91,
     "metadata": {},
     "output_type": "execute_result"
    }
   ],
   "source": [
    "colors = [\"red\", \"white\", \"blue\"]\n",
    "colors.insert(2,'yellow')\n",
    "colors"
   ]
  },
  {
   "cell_type": "code",
   "execution_count": 92,
   "metadata": {},
   "outputs": [
    {
     "name": "stdout",
     "output_type": "stream",
     "text": [
      "['clark.kent@gmail.com', 'diana.prince@gmail.com', 'peter.parker@gmail.com', 'barbara.gordon@yahoo.com', 'jean.grey@yahoo.com', 'bruce.wayne@hotmail.com']\n"
     ]
    }
   ],
   "source": [
    "def email_list(users):\n",
    "    emails=[]\n",
    "    for domain,user_list in users.items():\n",
    "        for user in user_list:\n",
    "            emails.append(user+'@'+domain)\n",
    "    return emails\n",
    "            \n",
    "\n",
    "\n",
    "\n",
    "print(email_list({\"gmail.com\": [\"clark.kent\", \"diana.prince\", \"peter.parker\"], \"yahoo.com\": [\"barbara.gordon\", \"jean.grey\"], \"hotmail.com\": [\"bruce.wayne\"]}))"
   ]
  },
  {
   "cell_type": "code",
   "execution_count": 94,
   "metadata": {},
   "outputs": [
    {
     "name": "stdout",
     "output_type": "stream",
     "text": [
      "{'admin': ['local', 'public', 'administrator'], 'userA': ['local'], 'userB': ['public']}\n"
     ]
    }
   ],
   "source": [
    "def groups_per_user(group_dictionary):\n",
    "    users_group={}\n",
    "    for group,users in group_dictionary.items():\n",
    "        for user in users:\n",
    "            if user not in users_group.keys():\n",
    "                users_group[user]=[group]\n",
    "            elif user in users_group.keys():\n",
    "                users_group[user].append(group)\n",
    "    return users_group\n",
    "\n",
    "\n",
    "\n",
    "\n",
    "print(groups_per_user({\"local\": [\"admin\", \"userA\"],\n",
    "      \"public\":  [\"admin\", \"userB\"],\n",
    "      \"administrator\": [\"admin\"] }))"
   ]
  },
  {
   "cell_type": "code",
   "execution_count": 96,
   "metadata": {},
   "outputs": [
    {
     "name": "stdout",
     "output_type": "stream",
     "text": [
      "28.44\n"
     ]
    }
   ],
   "source": [
    "def add_prices(price_list):\n",
    "    total=0\n",
    "    for price in price_list.values():\n",
    "        total+=price\n",
    "    return '{:.2f}'.format(total)\n",
    "        \n",
    "\n",
    "\n",
    "\n",
    "groceries = {\"bananas\": 1.56, \"apples\": 2.50, \"oranges\": 0.99, \"bread\": 4.59, \n",
    "        \"coffee\": 6.99, \"milk\": 3.39, \"eggs\": 2.98, \"cheese\": 5.44}\n",
    "\n",
    "print(add_prices(groceries)) # Should print 28.44"
   ]
  },
  {
   "cell_type": "code",
   "execution_count": 98,
   "metadata": {},
   "outputs": [
    {
     "name": "stdout",
     "output_type": "stream",
     "text": [
      "house number 123 on street named Main Street\n",
      "house number 1001 on street named 1st Ave\n",
      "house number 55 on street named North Center Drive\n"
     ]
    }
   ],
   "source": [
    "def format_address(address_string):\n",
    "    house_no=[]\n",
    "    street_name=[]\n",
    "    words=address_string.split()\n",
    "    for word in words:\n",
    "        if word==words[0]:\n",
    "            house_no.append(word)\n",
    "        else:\n",
    "            street_name.append(word)\n",
    "    return 'house number {} on street named {}'.format(''.join(house_no),' '.join(street_name))\n",
    "\n",
    "\n",
    "\n",
    "\n",
    "print(format_address(\"123 Main Street\"))\n",
    "# Should print: \"house number 123 on street named Main Street\"\n",
    "\n",
    "print(format_address(\"1001 1st Ave\"))\n",
    "# Should print: \"house number 1001 on street named 1st Ave\"\n",
    "\n",
    "print(format_address(\"55 North Center Drive\"))\n",
    "# Should print \"house number 55 on street named North Center Drive\""
   ]
  },
  {
   "cell_type": "code",
   "execution_count": 99,
   "metadata": {},
   "outputs": [
    {
     "name": "stdout",
     "output_type": "stream",
     "text": [
      "Have a NICE day\n",
      "Shhh, don't be so LOUD!\n",
      "Automating with Python is FUN\n"
     ]
    }
   ],
   "source": [
    "def highlight_word(sentence,word):\n",
    "    return sentence.replace(word,word.upper())\n",
    "\n",
    "\n",
    "print(highlight_word(\"Have a nice day\", \"nice\"))\n",
    "print(highlight_word(\"Shhh, don't be so loud!\", \"loud\"))\n",
    "print(highlight_word(\"Automating with Python is fun\", \"fun\"))"
   ]
  },
  {
   "cell_type": "code",
   "execution_count": 102,
   "metadata": {},
   "outputs": [
    {
     "name": "stdout",
     "output_type": "stream",
     "text": [
      "['Mike', 'Carol', 'Greg', 'Marcia', 'Peter', 'Jan', 'Bobby', 'Cindy', 'Alice']\n"
     ]
    }
   ],
   "source": [
    "def combine_lists(list1,list2):\n",
    "    new_list=[]\n",
    "    new_list=list2\n",
    "    for name in range(1,len(list1)+1):\n",
    "        new_list.append(list1[-name])\n",
    "    return new_list\n",
    "\n",
    "\n",
    "\n",
    "\n",
    "Jamies_list = [\"Alice\", \"Cindy\", \"Bobby\", \"Jan\", \"Peter\"]\n",
    "Drews_list = [\"Mike\", \"Carol\", \"Greg\", \"Marcia\"]\n",
    "\n",
    "print(combine_lists(Jamies_list, Drews_list))\n"
   ]
  },
  {
   "cell_type": "code",
   "execution_count": 103,
   "metadata": {},
   "outputs": [
    {
     "name": "stdout",
     "output_type": "stream",
     "text": [
      "{'Adam': 2, 'Brenda': 3, 'David': 1, 'Jose': 3, 'Charlotte': 2, 'Terry': 1, 'Robert': 4, 'Nancy': 1, 'Samantha': 3, 'Chris': 5}\n"
     ]
    }
   ],
   "source": [
    "def combine_guests(guest1,guest2):\n",
    "    total_guest=guest1\n",
    "    for name,guest in guest2.items():\n",
    "        if name not in total_guest.keys():\n",
    "            total_guest[name]=guest\n",
    "    return total_guest\n",
    "\n",
    "\n",
    "\n",
    "\n",
    "Rorys_guests = { \"Adam\":2, \"Brenda\":3, \"David\":1, \"Jose\":3, \"Charlotte\":2, \"Terry\":1, \"Robert\":4}\n",
    "Taylors_guests = { \"David\":4, \"Nancy\":1, \"Robert\":2, \"Adam\":1, \"Samantha\":3, \"Chris\":5}\n",
    "\n",
    "print(combine_guests(Rorys_guests, Taylors_guests))"
   ]
  },
  {
   "cell_type": "code",
   "execution_count": 107,
   "metadata": {},
   "outputs": [
    {
     "name": "stdout",
     "output_type": "stream",
     "text": [
      "{'a': 2, 'b': 2, 'c': 2}\n",
      "{'m': 1, 'a': 1, 't': 1, 'h': 1, 'i': 1, 's': 1, 'f': 1, 'u': 1, 'n': 1}\n",
      "{'t': 2, 'h': 1, 'i': 2, 's': 3, 'a': 1, 'e': 3, 'n': 2, 'c': 1}\n"
     ]
    }
   ],
   "source": [
    "def count_letters(text):\n",
    "    result={}\n",
    "    text=text.lower()\n",
    "    text=text.replace(' ','')\n",
    "    for letter in text:\n",
    "        if (letter in [str(i) for i in range(0,10)]) or (letter in ['!','+','=','.']):\n",
    "            continue\n",
    "        elif letter not in result:\n",
    "            result[letter]=0\n",
    "        result[letter]+=1\n",
    "    return result\n",
    "\n",
    "\n",
    "\n",
    "\n",
    "print(count_letters(\"AaBbCc\"))\n",
    "# Should be {'a': 2, 'b': 2, 'c': 2}\n",
    "\n",
    "print(count_letters(\"Math is fun! 2+2=4\"))\n",
    "# Should be {'m': 1, 'a': 1, 't': 1, 'h': 1, 'i': 1, 's': 1, 'f': 1, 'u': 1, 'n': 1}\n",
    "print(count_letters(\"This is a sentence.\"))\n",
    "# Should be {'t': 2, 'h': 1, 'i': 2, 's': 3, 'a': 1, 'e': 3, 'n': 2, 'c': 1}\n"
   ]
  },
  {
   "cell_type": "code",
   "execution_count": null,
   "metadata": {},
   "outputs": [],
   "source": []
  }
 ],
 "metadata": {
  "kernelspec": {
   "display_name": "Python 3",
   "language": "python",
   "name": "python3"
  },
  "language_info": {
   "codemirror_mode": {
    "name": "ipython",
    "version": 3
   },
   "file_extension": ".py",
   "mimetype": "text/x-python",
   "name": "python",
   "nbconvert_exporter": "python",
   "pygments_lexer": "ipython3",
   "version": "3.7.6"
  }
 },
 "nbformat": 4,
 "nbformat_minor": 4
}
