{
 "cells": [
  {
   "cell_type": "code",
   "execution_count": 17,
   "metadata": {},
   "outputs": [],
   "source": [
    "def get_event_date(event):\n",
    "    return event.date\n",
    "def current_users(events):\n",
    "    events.sort(key=get_event_date)\n",
    "    machines={}\n",
    "    for event in events:\n",
    "        if event.machine not in machines:\n",
    "            machines[event.machine]=set()\n",
    "        if event.type=='login':\n",
    "            machines[event.machine].add(event.user)\n",
    "        elif event.type=='logout':\n",
    "            if event.user not in machines.values():\n",
    "                continue\n",
    "            else:\n",
    "                machines[event.machine].remove(event.user)\n",
    "    return machines\n",
    "def generate_report(machines):\n",
    "    for machine,users in machines.items():\n",
    "        if len(users)>0:\n",
    "            user_list=','.join(users)\n",
    "            print('{}:{}'.format(machine,user_list))\n",
    "\n",
    "    "
   ]
  },
  {
   "cell_type": "code",
   "execution_count": 18,
   "metadata": {},
   "outputs": [
    {
     "name": "stdout",
     "output_type": "stream",
     "text": [
      "{'webserver.local': {'lane', 'jordan'}, 'myworkstation.local': {'jordan'}, 'mailserver.local': set()}\n"
     ]
    }
   ],
   "source": [
    "class Event:\n",
    "    def __init__(self,event_date,event_type,machine_name,user_name):\n",
    "        self.date=event_date\n",
    "        self.type=event_type\n",
    "        self.machine=machine_name\n",
    "        self.user=user_name\n",
    "events=[\n",
    "    Event('2020-01-21 12:45:56', 'login', 'myworkstation.local', 'jordan'),\n",
    "    Event('2020-01-22 15:53:42', 'logout', 'webserver.local', 'jordan'),\n",
    "    Event('2020-01-21 18:53:21', 'login', 'webserver.local', 'lane'),\n",
    "    Event('2020-01-22 10:25:34', 'logout', 'myworkstation.local', 'jordan'),\n",
    "    Event('2020-01-21 08:20:01', 'login', 'webserver.local', 'jordan'),\n",
    "    Event('2020-01-23 11:24:35', 'logout', 'mailserver.local','chris'),\n",
    "      ]\n",
    "users=current_users(events)\n",
    "print(users)"
   ]
  },
  {
   "cell_type": "code",
   "execution_count": 19,
   "metadata": {},
   "outputs": [
    {
     "name": "stdout",
     "output_type": "stream",
     "text": [
      "webserver.local:lane,jordan\n",
      "myworkstation.local:jordan\n",
      "None\n"
     ]
    }
   ],
   "source": [
    "print(generate_report(users))"
   ]
  },
  {
   "cell_type": "code",
   "execution_count": 37,
   "metadata": {},
   "outputs": [
    {
     "name": "stdout",
     "output_type": "stream",
     "text": [
      "{'webserver.local': {'lane', 'jordan'}, 'myworkstation.local': {'jordan'}, 'mailserver.local': set()}\n"
     ]
    }
   ],
   "source": [
    "def get_event_date(event):\n",
    "    return event.date\n",
    "    \n",
    "        \n",
    "def current_user(events):\n",
    "    events.sort(key=get_event_date)\n",
    "    machines={}\n",
    "    for event in events:\n",
    "        if event.machine not in machines:\n",
    "            machines[event.machine]=set()\n",
    "        if event.type=='login':\n",
    "            machines[event.machine].add(event.user)\n",
    "        elif event.type=='logout':\n",
    "            if event.user not in machines.values():\n",
    "                continue\n",
    "            else:\n",
    "                machines[event.machine].remove(event.user)\n",
    "    return machines\n",
    "def report_generate(machines):\n",
    "    for machine,users in machines.items():\n",
    "        if len(users)>0:\n",
    "            user_list=','.join(users)\n",
    "            print('{}:{}'.format(machine,user_list))\n",
    "class Event:\n",
    "    def __init__(self,event_date,event_type,machine_name,user_name):\n",
    "        self.date=event_date\n",
    "        self.type=event_type\n",
    "        self.machine=machine_name\n",
    "        self.user=user_name\n",
    "events=[\n",
    "    Event('2020-01-21 12:45:56', 'login', 'myworkstation.local', 'jordan'),\n",
    "    Event('2020-01-22 15:53:42', 'logout', 'webserver.local', 'jordan'),\n",
    "    Event('2020-01-21 18:53:21', 'login', 'webserver.local', 'lane'),\n",
    "    Event('2020-01-22 10:25:34', 'logout', 'myworkstation.local', 'jordan'),\n",
    "    Event('2020-01-21 08:20:01', 'login', 'webserver.local', 'jordan'),\n",
    "    Event('2020-01-23 11:24:35', 'logout', 'mailserver.local','chris'),\n",
    "      ]\n",
    "users=current_user(events)\n",
    "print(users)"
   ]
  },
  {
   "cell_type": "code",
   "execution_count": 38,
   "metadata": {},
   "outputs": [
    {
     "name": "stdout",
     "output_type": "stream",
     "text": [
      "webserver.local:lane,jordan\n",
      "myworkstation.local:jordan\n"
     ]
    }
   ],
   "source": [
    "report_generate(users)"
   ]
  },
  {
   "cell_type": "code",
   "execution_count": 49,
   "metadata": {},
   "outputs": [
    {
     "name": "stdout",
     "output_type": "stream",
     "text": [
      "{'my': 2, 'name': 1, 'is': 2, 'maher': 1, 'hometown': 1, 'in': 1, 'chittagong': 1}\n"
     ]
    }
   ],
   "source": [
    "def word_count(sentence):\n",
    "    words=sentence.replace('.',' ')\n",
    "    words=words.split()\n",
    "    words_count={}\n",
    "    for word in words:\n",
    "        if word in ['.']:\n",
    "            continue\n",
    "        if word not in words_count.keys():\n",
    "            words_count[word]=0\n",
    "        words_count[word]+=1\n",
    "    return words_count\n",
    "print(word_count('my name is maher.my hometown is in chittagong.'))"
   ]
  },
  {
   "cell_type": "code",
   "execution_count": 61,
   "metadata": {},
   "outputs": [
    {
     "name": "stdout",
     "output_type": "stream",
     "text": [
      "a\n",
      "b\n"
     ]
    }
   ],
   "source": [
    "words=['a','b','.','?']\n",
    "for word in words:\n",
    "    if word.isalpha() and word not in ['.','?']:\n",
    "        print(word)\n",
    "        "
   ]
  },
  {
   "cell_type": "code",
   "execution_count": 52,
   "metadata": {},
   "outputs": [],
   "source": [
    "sentence='''\n",
    "Universities should allocate the same amount of money to students' sports activities as they allocate to their libraries. \n",
    "A university constructed the future of a student by providing them education. It is an expanded territory where is no bound\n",
    "and limitness for a student. They can do whatever they wanted to and this really helps a student to widespread their sen-\n",
    "sibility and make them as competent for anything. In order to be establised as a genius student i think that they might\n",
    "be needed libraries and sports facilities equally. So, I do aggree with the statement that the universities should allocate\n",
    "the same amount of money to students sports activities as they allocate to their libraries. Here i will give my interpretation\n",
    "relevant to my statement.\n",
    "Sports are mandatory for everyone. It enables us to refresh our mind and keep us healthy and fit. It also prevents many\n",
    "health issues. If one person used to play any kinds of sport regularly his working capability will be much higher than \n",
    "those who usually don't play any. By considering this massive amount of amenities universities should spend money\n",
    "in this sector so that the students get enough facilities which will enthusias them for playing any sports at a regular \n",
    "basis.on the other hand, libraries are equally important for students. Sports will stable the mentality of the student. But library\n",
    "will help a student to attain knowledge which are going to make them well enough for doing well in their eductaion as well as\n",
    "to build up their carrier at the same time. The main intention of any students are to do well in their academic life and there is\n",
    "no ambigous that library will make the way far easier for them. Because library is the place where they can dive into an ocean\n",
    "of knowledge and can collect any kinds of information according to their desires.In conclusion,  I want to say that unversity \n",
    "authority should make eqaul distribution of their funding between sports andlibraries. Because these two things are extremely compulsary \n",
    "for constructing a student compatible for facing any challenges.\n",
    "'''"
   ]
  },
  {
   "cell_type": "code",
   "execution_count": 64,
   "metadata": {},
   "outputs": [
    {
     "name": "stdout",
     "output_type": "stream",
     "text": [
      "{'Universities': 1, 'should': 4, 'allocate': 4, 'same': 3, 'amount': 3, 'money': 3, 'sports': 5, 'activities': 2, 'A': 1, 'university': 1, 'constructed': 1, 'future': 1, 'student': 5, 'providing': 1, 'It': 3, 'expanded': 1, 'territory': 1, 'bound': 1, 'limitness': 1, 'for': 9, 'They': 1, 'whatever': 1, 'wanted': 1, 'really': 1, 'helps': 1, 'widespread': 1, 'sibility': 1, 'make': 4, 'competent': 1, 'In': 1, 'order': 1, 'establised': 1, 'genius': 1, 'think': 1, 'might': 1, 'needed': 1, 'libraries': 2, 'facilities': 2, 'I': 2, 'aggree': 1, 'statement': 1, 'universities': 2, 'students': 3, 'Here': 1, 'give': 1, 'interpretation': 1, 'relevant': 1, 'Sports': 2, 'mandatory': 1, 'enables': 1, 'us': 2, 'refresh': 1, 'mind': 1, 'keep': 1, 'healthy': 1, 'also': 1, 'prevents': 1, 'many': 1, 'health': 1, 'If': 1, 'one': 1, 'person': 1, 'used': 1, 'play': 2, 'kinds': 2, 'sport': 1, 'regularly': 1, 'working': 1, 'capability': 1, 'much': 1, 'higher': 1, 'than': 1, 'those': 1, 'usually': 1, 'By': 1, 'considering': 1, 'massive': 1, 'amenities': 1, 'spend': 1, 'in': 3, 'sector': 1, 'so': 1, 'get': 1, 'enough': 2, 'enthusias': 1, 'playing': 1, 'regular': 1, 'other': 1, 'equally': 1, 'important': 1, 'stable': 1, 'mentality': 1, 'But': 1, 'library': 3, 'help': 1, 'attain': 1, 'knowledge': 2, 'going': 1, 'well': 4, 'doing': 1, 'eductaion': 1, 'build': 1, 'up': 1, 'carrier': 1, 'The': 1, 'main': 1, 'intention': 1, 'academic': 1, 'life': 1, 'there': 1, 'ambigous': 1, 'way': 1, 'far': 1, 'easier': 1, 'Because': 2, 'place': 1, 'dive': 1, 'into': 1, 'ocean': 1, 'collect': 1, 'information': 1, 'according': 1, 'want': 1, 'say': 1, 'unversity': 1, 'authority': 1, 'eqaul': 1, 'distribution': 1, 'funding': 1, 'between': 1, 'these': 1, 'two': 1, 'things': 1, 'extremely': 1, 'compulsary': 1, 'constructing': 1, 'compatible': 1, 'facing': 1}\n"
     ]
    }
   ],
   "source": [
    "words=sentence.split()\n",
    "uninteresting_words = [\"the\", \"a\", \"to\", \"if\", \"is\", \"it\", \"of\", \"and\", \"or\", \"an\", \"as\", \"i\", \"me\", \"my\", \\\n",
    " \"we\", \"our\", \"ours\", \"you\", \"your\", \"yours\", \"he\", \"she\", \"him\", \"his\", \"her\", \"hers\", \"its\", \"they\", \"them\", \\\n",
    "    \"their\", \"what\", \"which\", \"who\", \"whom\", \"this\", \"that\", \"am\", \"are\", \"was\", \"were\", \"be\", \"been\", \"being\", \\\n",
    "    \"have\", \"has\", \"had\", \"do\", \"does\", \"did\", \"but\", \"at\", \"by\", \"with\", \"from\", \"here\", \"when\", \"where\", \"how\", \\\n",
    "    \"all\", \"any\", \"both\", \"each\", \"few\", \"more\", \"some\", \"such\", \"no\", \"nor\", \"too\", \"very\", \"can\", \"will\", \"just\"]\n",
    "word_count={}\n",
    "for word in words:\n",
    "    if word.isalpha() and word not in uninteresting_words:\n",
    "        if word not in word_count:\n",
    "            word_count[word]=0\n",
    "        word_count[word]+=1\n",
    "print(word_count)      "
   ]
  },
  {
   "cell_type": "code",
   "execution_count": null,
   "metadata": {},
   "outputs": [],
   "source": []
  }
 ],
 "metadata": {
  "kernelspec": {
   "display_name": "Python 3",
   "language": "python",
   "name": "python3"
  },
  "language_info": {
   "codemirror_mode": {
    "name": "ipython",
    "version": 3
   },
   "file_extension": ".py",
   "mimetype": "text/x-python",
   "name": "python",
   "nbconvert_exporter": "python",
   "pygments_lexer": "ipython3",
   "version": "3.7.6"
  }
 },
 "nbformat": 4,
 "nbformat_minor": 4
}
