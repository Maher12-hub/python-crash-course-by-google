{
 "cells": [
  {
   "cell_type": "code",
   "execution_count": 1,
   "metadata": {},
   "outputs": [
    {
     "name": "stdout",
     "output_type": "stream",
     "text": [
      "red\n",
      "sweet\n"
     ]
    }
   ],
   "source": [
    "class apple:\n",
    "    color=''\n",
    "    flavour=''\n",
    "jonagold=apple()\n",
    "jonagold.color='red'\n",
    "jonagold.flavour='sweet'\n",
    "print(jonagold.color)\n",
    "print(jonagold.flavour)"
   ]
  },
  {
   "cell_type": "code",
   "execution_count": 4,
   "metadata": {},
   "outputs": [
    {
     "data": {
      "text/plain": [
       "'ibne'"
      ]
     },
     "execution_count": 4,
     "metadata": {},
     "output_type": "execute_result"
    }
   ],
   "source": [
    "class maher:\n",
    "    name=''\n",
    "    city=''\n",
    "maher1=maher()\n",
    "maher1.name='ibne'\n",
    "maher1.city='ctg'\n",
    "maher2=maher()\n",
    "maher2=maher1\n",
    "maher2.name"
   ]
  },
  {
   "cell_type": "code",
   "execution_count": 5,
   "metadata": {},
   "outputs": [
    {
     "data": {
      "text/plain": [
       "True"
      ]
     },
     "execution_count": 5,
     "metadata": {},
     "output_type": "execute_result"
    }
   ],
   "source": [
    "358052>100000"
   ]
  },
  {
   "cell_type": "code",
   "execution_count": 7,
   "metadata": {},
   "outputs": [
    {
     "data": {
      "text/plain": [
       "False"
      ]
     },
     "execution_count": 7,
     "metadata": {},
     "output_type": "execute_result"
    }
   ],
   "source": [
    "a=10\n",
    "11>a>12\n"
   ]
  },
  {
   "cell_type": "code",
   "execution_count": 11,
   "metadata": {},
   "outputs": [
    {
     "name": "stdout",
     "output_type": "stream",
     "text": [
      "true\n"
     ]
    }
   ],
   "source": [
    "min_pop=100\n",
    "a=1000\n",
    "if (a>min_pop) and (a>90 or a>80):\n",
    "    print('true')"
   ]
  },
  {
   "cell_type": "code",
   "execution_count": 18,
   "metadata": {},
   "outputs": [
    {
     "name": "stdout",
     "output_type": "stream",
     "text": [
      "maher has 1 apples and sunny has 2 apples\n",
      "maher has 2 ideas and sunny has 2 ideas\n"
     ]
    }
   ],
   "source": [
    "\"\"\"\n",
    "# “If you have an apple and I have an apple and we exchange these apples then\n",
    "# you and I will still each have one apple. But if you have an idea and I have\n",
    "# an idea and we exchange these ideas, then each of us will have two ideas.”\n",
    "# George Bernard Shaw\n",
    "\"\"\"\n",
    "\n",
    "\n",
    "class person:\n",
    "    apples=0\n",
    "    ideas=0\n",
    "maher=person()\n",
    "maher.apples=2\n",
    "maher.ideas=1\n",
    "sunny=person()\n",
    "sunny.apples=1\n",
    "sunny.ideas=1\n",
    "\n",
    "def exchange_apples(person1,person2):\n",
    "    a=person1.apples\n",
    "    person1.apples=person2.apples\n",
    "    person2.apples=a\n",
    "    return person1.apples,person2.apples\n",
    "def exchange_ideas(person1,person2):\n",
    "    a=person1.ideas\n",
    "    person1.ideas=a+person2.ideas\n",
    "    person2.ideas=person2.ideas+a\n",
    "    return person1.ideas,person2.ideas\n",
    "    \n",
    "\n",
    "    \n",
    "exchange_apples(maher,sunny)\n",
    "print('maher has {} apples and sunny has {} apples'.format(maher.apples,sunny.apples))\n",
    "exchange_ideas(maher,sunny)\n",
    "print('maher has {} ideas and sunny has {} ideas'.format(maher.ideas,sunny.ideas))\n",
    "\n",
    "    "
   ]
  },
  {
   "cell_type": "code",
   "execution_count": 21,
   "metadata": {},
   "outputs": [
    {
     "name": "stdout",
     "output_type": "stream",
     "text": [
      "ctg, bangladesh\n",
      "mumbai, india\n",
      "\n"
     ]
    }
   ],
   "source": [
    "class city:\n",
    "    name=''\n",
    "    country=''\n",
    "    elevation=''\n",
    "    population=''\n",
    "city1=city()\n",
    "city1.name='ctg'\n",
    "city1.country='bangladesh'\n",
    "city1.elevation=3399\n",
    "city1.population=358052\n",
    "city2=city()\n",
    "city2.name='mumbai'\n",
    "city2.country='india'\n",
    "city2.elevation=2290\n",
    "city2.population=1241675\n",
    "city3=city()\n",
    "city3.name='hamburg'\n",
    "city3.country='germany'\n",
    "city3.elevation=38\n",
    "city3.population=9733509\n",
    "\n",
    "\n",
    "\n",
    "def max_elevation_city(min_population):\n",
    "    return_city=city()\n",
    "    if (city1.population>min_population) and (city1.elevation>city2.elevation or city1.elevation>city3.elevation):\n",
    "        return_city=city1\n",
    "    elif (city2.population>min_population)and(city2.elevation>city1.elevation or city2.elevation>city3.elevation):\n",
    "        return_city=city2\n",
    "    elif (city3.population>min_population) and (city3.elevation>city1.elevation or city3.elevation>city2.elevation):\n",
    "        return_city=city3\n",
    "        \n",
    "    if return_city.name:\n",
    "        return '{}, {}'.format(return_city.name,return_city.country)\n",
    "    else:\n",
    "        return ''\n",
    "print(max_elevation_city(100000))\n",
    "print(max_elevation_city(1000000))\n",
    "print(max_elevation_city(10000000))\n",
    "\n",
    "\n",
    "\n",
    "\n",
    "    "
   ]
  },
  {
   "cell_type": "code",
   "execution_count": 22,
   "metadata": {},
   "outputs": [
    {
     "name": "stdout",
     "output_type": "stream",
     "text": [
      "this furniture is made of brown wood\n",
      "this furniture is made of red leather\n"
     ]
    }
   ],
   "source": [
    "class furniture:\n",
    "    color=''\n",
    "    material=''\n",
    "table=furniture()\n",
    "table.color='brown'\n",
    "table.material='wood'\n",
    "couch=furniture()\n",
    "couch.color='red'\n",
    "couch.material='leather'\n",
    "\n",
    "\n",
    "def pieces_of_furniture(piece):\n",
    "    return 'this furniture is made of {} {}'.format(piece.color,piece.material)\n",
    "\n",
    "\n",
    "\n",
    "print(pieces_of_furniture(table))\n",
    "print(pieces_of_furniture(couch))\n",
    "    "
   ]
  },
  {
   "cell_type": "code",
   "execution_count": 1,
   "metadata": {},
   "outputs": [
    {
     "name": "stdout",
     "output_type": "stream",
     "text": [
      "oink! oink!\n"
     ]
    }
   ],
   "source": [
    "class piglet:\n",
    "    name\n",
    "    def speak(self):\n",
    "        print('oink! oink!')\n",
    "hamlet=piglet()\n",
    "hamlet.speak()"
   ]
  },
  {
   "cell_type": "code",
   "execution_count": 3,
   "metadata": {},
   "outputs": [
    {
     "name": "stdout",
     "output_type": "stream",
     "text": [
      "oink! hamlet oink! oink!\n"
     ]
    }
   ],
   "source": [
    "class piglet:\n",
    "    name='piglet'\n",
    "    def speak(self):\n",
    "        print('oink! {} oink! oink!'.format(self.name))\n",
    "hamlet=piglet()\n",
    "hamlet.name='hamlet'\n",
    "hamlet.speak()"
   ]
  },
  {
   "cell_type": "code",
   "execution_count": 6,
   "metadata": {},
   "outputs": [
    {
     "data": {
      "text/plain": [
       "36"
      ]
     },
     "execution_count": 6,
     "metadata": {},
     "output_type": "execute_result"
    }
   ],
   "source": [
    "class piglet:\n",
    "    years=0\n",
    "    def pig_years(self):\n",
    "        return self.years*18\n",
    "piggy=piglet()\n",
    "piggy.pig_years()\n",
    "piggy.years=2\n",
    "piggy.pig_years()"
   ]
  },
  {
   "cell_type": "code",
   "execution_count": 7,
   "metadata": {},
   "outputs": [
    {
     "name": "stdout",
     "output_type": "stream",
     "text": [
      "hi, my name is maher\n"
     ]
    }
   ],
   "source": [
    "class person:\n",
    "    def __init__(self,name):\n",
    "        self.name=name\n",
    "    def greeting(self):\n",
    "        return 'hi, my name is {}'.format(self.name)\n",
    "some_person=person('maher')\n",
    "print(some_person.greeting())\n",
    "        "
   ]
  },
  {
   "cell_type": "code",
   "execution_count": 8,
   "metadata": {},
   "outputs": [
    {
     "name": "stdout",
     "output_type": "stream",
     "text": [
      "color=red,flavour=sweet\n"
     ]
    }
   ],
   "source": [
    "class apple:\n",
    "    def __init__(self,color,flavour):\n",
    "        self.color=color\n",
    "        self.flavour=flavour\n",
    "        \n",
    "    def __str__(self):\n",
    "        return 'color={},flavour={}'.format(self.color,self.flavour)\n",
    "    \n",
    "    \n",
    "    \n",
    "apple1=apple('red','sweet')\n",
    "print(apple1)"
   ]
  },
  {
   "cell_type": "code",
   "execution_count": 18,
   "metadata": {},
   "outputs": [
    {
     "name": "stdout",
     "output_type": "stream",
     "text": [
      "current floor:9\n"
     ]
    }
   ],
   "source": [
    "class Elevator:\n",
    "    def __init__(self,top,bottom,current):\n",
    "        self.top=top\n",
    "        self.bottom=bottom\n",
    "        self.current=current\n",
    "    def up(self):\n",
    "        self.current+=1\n",
    "        if self.current>self.top:\n",
    "            self.current-=1\n",
    "    def down(self):\n",
    "        self.current-=1\n",
    "        if self.current<self.bottom:\n",
    "            self.current+=1\n",
    "    def go_to(self,floor):\n",
    "        self.current=floor\n",
    "    def __str__(self):\n",
    "        return 'current floor:{}'.format(self.current)\n",
    "elevator=Elevator(10,-1,0)\n",
    "elevator.up()\n",
    "elevator.current\n",
    "elevator.down()\n",
    "elevator.current\n",
    "elevator.go_to(10)\n",
    "elevator.current\n",
    "elevator.go_to(10)\n",
    "elevator.up()\n",
    "elevator.down()\n",
    "elevator.current\n",
    "elevator.down()\n",
    "elevator.down()\n",
    "elevator.up()\n",
    "elevator.up()\n",
    "elevator.current\n",
    "print(elevator)"
   ]
  },
  {
   "cell_type": "code",
   "execution_count": 20,
   "metadata": {},
   "outputs": [
    {
     "name": "stdout",
     "output_type": "stream",
     "text": [
      "red sweet\n",
      "yellow tart\n"
     ]
    }
   ],
   "source": [
    "class fruit:\n",
    "    def __init__(self,color,flavour):\n",
    "        self.color=color\n",
    "        self.flavour=flavour\n",
    "class apple(fruit):\n",
    "    pass\n",
    "class grape(fruit):\n",
    "    pass\n",
    "\n",
    "\n",
    "maher=apple('red','sweet')\n",
    "sunny=grape('yellow','tart')\n",
    "print(maher.color,maher.flavour)\n",
    "print(sunny.color,sunny.flavour)"
   ]
  },
  {
   "cell_type": "code",
   "execution_count": 22,
   "metadata": {},
   "outputs": [
    {
     "name": "stdout",
     "output_type": "stream",
     "text": [
      "oink!Im hamlet!oink\n",
      "mooooo!Im dola!mooooo\n"
     ]
    }
   ],
   "source": [
    "class animal:\n",
    "    sound=''\n",
    "    def __init__(self,name):\n",
    "        self.name=name\n",
    "    def speak(self):\n",
    "        return '{sound}!Im {name}!{sound}'.format(sound=self.sound,name=self.name)\n",
    "    \n",
    "class piglet(animal):\n",
    "    sound='oink'\n",
    "class cow(animal):\n",
    "    sound='mooooo'\n",
    "    \n",
    "    \n",
    "hamlet=piglet('hamlet')\n",
    "milky=cow('dola')\n",
    "print(hamlet.speak())\n",
    "print(milky.speak())"
   ]
  },
  {
   "cell_type": "code",
   "execution_count": 23,
   "metadata": {},
   "outputs": [
    {
     "name": "stdout",
     "output_type": "stream",
     "text": [
      "10\n"
     ]
    }
   ],
   "source": [
    "\"\"\"\n",
    "Let’s expand a bit on our Clothing classes from the previous in-video question. \n",
    "Your mission: Finish the \"Stock_by_Material\" method and iterate over the amount of each item \n",
    "of a given material that is in stock. When you’re finished, the script should add up to 10 \n",
    "cotton Polo shirts. \n",
    "\"\"\"\n",
    "class clothing:\n",
    "    stock={'name':[],'material':[],'amount':[]}\n",
    "    def __init__(self,name):\n",
    "        material=''\n",
    "        self.name=name\n",
    "    def add_item(self,name,material,amount):\n",
    "        clothing.stock['name'].append(name)\n",
    "        clothing.stock['material'].append(material)\n",
    "        clothing.stock['amount'].append(amount)\n",
    "    def stock_by_material(self,material):\n",
    "        count=0\n",
    "        n=0\n",
    "        for item in clothing.stock['material']:\n",
    "            if item==material:\n",
    "                count+=clothing.stock['amount'][n]\n",
    "                n+=1\n",
    "        return count\n",
    "class shirt(clothing):\n",
    "    material='cotton'\n",
    "class pants(clothing):\n",
    "    material='cotton'\n",
    "    \n",
    "polo=shirt('polo')\n",
    "sweatpants=pants('sweatpants')\n",
    "polo.add_item(polo.name,polo.material,4)\n",
    "sweatpants.add_item(sweatpants.name,sweatpants.material,6)\n",
    "current_stock=polo.stock_by_material('cotton')\n",
    "print(current_stock)\n",
    "    \n",
    "    "
   ]
  },
  {
   "cell_type": "code",
   "execution_count": 26,
   "metadata": {},
   "outputs": [
    {
     "name": "stdout",
     "output_type": "stream",
     "text": [
      "2\n"
     ]
    }
   ],
   "source": [
    "class animal:\n",
    "    name=''\n",
    "    category=''\n",
    "    def __init__(self,name):\n",
    "        self.name=name\n",
    "    def set_category(self,category):\n",
    "        self.category=category\n",
    "        \n",
    "class Snake(animal):\n",
    "    category='reptile'\n",
    "class Turtle(animal):\n",
    "    category='reptile'\n",
    "class zoo:\n",
    "    def __init__(self):\n",
    "        self.current_animals={}\n",
    "    def add_animals(self,animal):\n",
    "        self.current_animals[animal.name]=animal.category\n",
    "    def total_of_category(self,category):\n",
    "        total=0\n",
    "        for animal in self.current_animals.values():\n",
    "            if animal==category:\n",
    "                total+=1\n",
    "        return total\n",
    "zoo=zoo()\n",
    "turtle=Turtle('Turtle')\n",
    "snake=Snake('Snake')\n",
    "zoo.add_animals(turtle)\n",
    "zoo.add_animals(snake)\n",
    "print(zoo.total_of_category('reptile'))"
   ]
  },
  {
   "cell_type": "code",
   "execution_count": 37,
   "metadata": {},
   "outputs": [
    {
     "ename": "RuntimeError",
     "evalue": "dictionary changed size during iteration",
     "output_type": "error",
     "traceback": [
      "\u001b[1;31m---------------------------------------------------------------------------\u001b[0m",
      "\u001b[1;31mRuntimeError\u001b[0m                              Traceback (most recent call last)",
      "\u001b[1;32m<ipython-input-37-760bd13e0acc>\u001b[0m in \u001b[0;36m<module>\u001b[1;34m\u001b[0m\n\u001b[0;32m      2\u001b[0m \u001b[0mrandom\u001b[0m\u001b[1;33m.\u001b[0m\u001b[0mrandom\u001b[0m\u001b[1;33m(\u001b[0m\u001b[1;33m)\u001b[0m\u001b[1;33m*\u001b[0m\u001b[1;36m10\u001b[0m\u001b[1;33m+\u001b[0m\u001b[1;36m1\u001b[0m\u001b[1;33m\u001b[0m\u001b[1;33m\u001b[0m\u001b[0m\n\u001b[0;32m      3\u001b[0m \u001b[0ma\u001b[0m\u001b[1;33m=\u001b[0m\u001b[1;33m{\u001b[0m\u001b[1;34m'maher'\u001b[0m\u001b[1;33m:\u001b[0m\u001b[1;36m10\u001b[0m\u001b[1;33m}\u001b[0m\u001b[1;33m\u001b[0m\u001b[1;33m\u001b[0m\u001b[0m\n\u001b[1;32m----> 4\u001b[1;33m \u001b[1;32mfor\u001b[0m \u001b[0mvalue\u001b[0m \u001b[1;32min\u001b[0m \u001b[0ma\u001b[0m\u001b[1;33m:\u001b[0m\u001b[1;33m\u001b[0m\u001b[1;33m\u001b[0m\u001b[0m\n\u001b[0m\u001b[0;32m      5\u001b[0m     \u001b[1;32mdel\u001b[0m\u001b[1;33m(\u001b[0m\u001b[0ma\u001b[0m\u001b[1;33m[\u001b[0m\u001b[0mvalue\u001b[0m\u001b[1;33m]\u001b[0m\u001b[1;33m)\u001b[0m\u001b[1;33m\u001b[0m\u001b[1;33m\u001b[0m\u001b[0m\n\u001b[0;32m      6\u001b[0m \u001b[0ma\u001b[0m\u001b[1;33m\u001b[0m\u001b[1;33m\u001b[0m\u001b[0m\n",
      "\u001b[1;31mRuntimeError\u001b[0m: dictionary changed size during iteration"
     ]
    }
   ],
   "source": [
    "import random\n",
    "random.random()*10+1\n",
    "a={'maher':10}\n",
    "for value in a:\n",
    "    del(a[value])\n",
    "a"
   ]
  },
  {
   "cell_type": "code",
   "execution_count": 81,
   "metadata": {},
   "outputs": [],
   "source": [
    "import random\n",
    "class Server:\n",
    "    def __init__(self):\n",
    "        self.connections={}\n",
    "    def add_connection(self,connection_id):\n",
    "        current_load=random.random()*10+1\n",
    "        self.connections[connection_id]=current_load\n",
    "    def close_connection(self,connection_id):\n",
    "        if connection_id in self.connections.keys():\n",
    "            del(self.connections[connection_id])\n",
    "    def load(self):\n",
    "        total=0\n",
    "        for load in self.connections.values():\n",
    "            total+=load\n",
    "        return total\n",
    "    "
   ]
  },
  {
   "cell_type": "code",
   "execution_count": 82,
   "metadata": {},
   "outputs": [
    {
     "name": "stdout",
     "output_type": "stream",
     "text": [
      "4.725341584612824\n"
     ]
    }
   ],
   "source": [
    "server=Server()\n",
    "server.add_connection(\"192.168.1.1\")\n",
    "print(server.load())"
   ]
  },
  {
   "cell_type": "code",
   "execution_count": 83,
   "metadata": {},
   "outputs": [
    {
     "name": "stdout",
     "output_type": "stream",
     "text": [
      "0\n"
     ]
    }
   ],
   "source": [
    "server.close_connection(\"192.168.1.1\")\n",
    "print(server.load())"
   ]
  },
  {
   "cell_type": "code",
   "execution_count": 95,
   "metadata": {},
   "outputs": [],
   "source": [
    "class loadbalancing:\n",
    "    def __init__(self):\n",
    "        self.connections={}\n",
    "        self.servers=[Server()]\n",
    "    def add_connection(self,connection_id):\n",
    "        server=random.choice(self.servers)\n",
    "        server.add_connection(connection_id)\n",
    "        self.ensure_availability()\n",
    "    def close_connection(self,connection_id):\n",
    "        for server in self.servers:\n",
    "            if connection_id in server.connections.keys():\n",
    "                del(server.connections[connection_id])\n",
    "    def avg_load(self):\n",
    "        total_load=0\n",
    "        total_server=0\n",
    "        for server in self.servers:\n",
    "            total_load+=server.load()\n",
    "            total_server+=1\n",
    "        return total_load/total_server\n",
    "    def ensure_availability(self):\n",
    "        if self.avg_load()>50:\n",
    "            self.servers.append(Server())"
   ]
  },
  {
   "cell_type": "code",
   "execution_count": 96,
   "metadata": {},
   "outputs": [
    {
     "name": "stdout",
     "output_type": "stream",
     "text": [
      "6.7907739493145804\n"
     ]
    }
   ],
   "source": [
    "l=loadbalancing()\n",
    "l.add_connection(\"fdca:83d2::f20d\")\n",
    "print(l.avg_load())"
   ]
  },
  {
   "cell_type": "code",
   "execution_count": 97,
   "metadata": {},
   "outputs": [
    {
     "name": "stdout",
     "output_type": "stream",
     "text": [
      "3.3953869746572902\n"
     ]
    }
   ],
   "source": [
    "l.servers.append(Server())\n",
    "print(l.avg_load())"
   ]
  },
  {
   "cell_type": "code",
   "execution_count": 98,
   "metadata": {},
   "outputs": [
    {
     "name": "stdout",
     "output_type": "stream",
     "text": [
      "0.0\n"
     ]
    }
   ],
   "source": [
    "l.close_connection(\"fdca:83d2::f20d\")\n",
    "print(l.avg_load())\n"
   ]
  },
  {
   "cell_type": "code",
   "execution_count": 99,
   "metadata": {},
   "outputs": [
    {
     "name": "stdout",
     "output_type": "stream",
     "text": [
      "47.3839738735247\n",
      "3\n"
     ]
    }
   ],
   "source": [
    "for connection in range(20):\n",
    "    l.add_connection(connection)\n",
    "print(l.avg_load())\n",
    "print(len(l.servers))"
   ]
  },
  {
   "cell_type": "code",
   "execution_count": 100,
   "metadata": {},
   "outputs": [
    {
     "name": "stdout",
     "output_type": "stream",
     "text": [
      "47.3839738735247\n"
     ]
    }
   ],
   "source": [
    "print(l.avg_load())"
   ]
  },
  {
   "cell_type": "code",
   "execution_count": 104,
   "metadata": {},
   "outputs": [],
   "source": [
    "class Serve:\n",
    "    def __init__(self):\n",
    "        self.connections={}\n",
    "    def add_connection(self,connection_id):\n",
    "        current_load=random.random()*10+1\n",
    "        self.connections[connection_id]=current_load\n",
    "    def close_connection(self,connection_id):\n",
    "        if connection_id in self.connections.keys():\n",
    "            del(self.connections[connection_id])\n",
    "    def load(self):\n",
    "        total=0\n",
    "        for load in self.connections.values():\n",
    "            total+=load\n",
    "        return total\n",
    "server=Server()\n",
    "    "
   ]
  },
  {
   "cell_type": "code",
   "execution_count": 111,
   "metadata": {},
   "outputs": [],
   "source": [
    "class loadbalancer:\n",
    "    def __init__(self):\n",
    "        self.connections={}\n",
    "        self.servers=[Server()]\n",
    "    def add_connection(self,connection_id):\n",
    "        server=random.choice(self.servers)\n",
    "        server.add_connection(connection_id)\n",
    "        self.ensure_availability()\n",
    "    def close_connection(self,connection_id):\n",
    "        for server in self.servers:\n",
    "            if connection_id in server.connections.keys():\n",
    "                del(server.connections[connection_id])\n",
    "    def avg_load(self):\n",
    "        total_load=0\n",
    "        total_server=0\n",
    "        for server in self.servers:\n",
    "            total_load+=server.load()\n",
    "            total_server+=1\n",
    "        return total_load/total_server\n",
    "    def ensure_availability(self):\n",
    "        if self.avg_load()>50:\n",
    "            self.servers.append(Server())\n",
    "\n",
    "                "
   ]
  },
  {
   "cell_type": "code",
   "execution_count": 112,
   "metadata": {},
   "outputs": [
    {
     "name": "stdout",
     "output_type": "stream",
     "text": [
      "6.110705759826333\n"
     ]
    }
   ],
   "source": [
    "l=loadbalancer()\n",
    "l.add_connection(\"fdca:83d2::f20d\")\n",
    "print(l.avg_load())"
   ]
  },
  {
   "cell_type": "code",
   "execution_count": 113,
   "metadata": {},
   "outputs": [
    {
     "name": "stdout",
     "output_type": "stream",
     "text": [
      "3.0553528799131664\n"
     ]
    }
   ],
   "source": [
    "l.servers.append(Server())\n",
    "print(l.avg_load())"
   ]
  },
  {
   "cell_type": "code",
   "execution_count": 114,
   "metadata": {},
   "outputs": [
    {
     "name": "stdout",
     "output_type": "stream",
     "text": [
      "40.801675903296086\n"
     ]
    }
   ],
   "source": [
    "for connection in range(20):\n",
    "    l.add_connection(connection)\n",
    "print(l.avg_load())"
   ]
  },
  {
   "cell_type": "code",
   "execution_count": 115,
   "metadata": {},
   "outputs": [
    {
     "name": "stdout",
     "output_type": "stream",
     "text": [
      "['rima', 'maher', 'mehanaz']\n"
     ]
    }
   ],
   "source": [
    "name=['maher','mehanaz','rima']\n",
    "print(sorted(name,key=len))"
   ]
  },
  {
   "cell_type": "code",
   "execution_count": 116,
   "metadata": {},
   "outputs": [
    {
     "data": {
      "text/plain": [
       "4"
      ]
     },
     "execution_count": 116,
     "metadata": {},
     "output_type": "execute_result"
    }
   ],
   "source": [
    "len((1,2,3,4))"
   ]
  },
  {
   "cell_type": "code",
   "execution_count": null,
   "metadata": {},
   "outputs": [],
   "source": []
  }
 ],
 "metadata": {
  "kernelspec": {
   "display_name": "Python 3",
   "language": "python",
   "name": "python3"
  },
  "language_info": {
   "codemirror_mode": {
    "name": "ipython",
    "version": 3
   },
   "file_extension": ".py",
   "mimetype": "text/x-python",
   "name": "python",
   "nbconvert_exporter": "python",
   "pygments_lexer": "ipython3",
   "version": "3.7.6"
  }
 },
 "nbformat": 4,
 "nbformat_minor": 4
}
